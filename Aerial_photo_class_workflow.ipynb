{
 "cells": [
  {
   "cell_type": "markdown",
   "metadata": {},
   "source": [
    "# Work flow to extract to obtain woody Foliage Projective Cover (FPC) estimates from Digital Aerial Photography \n",
    "\n",
    "#### Step 1. Create the image chip extents (e.g. 1 ha) equivalent to the star transect field plots etc. The image chip size can vary and is defied by the requirements of individual use case. For details on how to produce the image chip extents see: User_Guide_for_Creating_Image_Chips.pdf.  \n",
    "\n",
    "#### Step 2. Create the image chips to classify. \n",
    "\n",
    "#### Step 3. Run the random forest classifer to extract woody fpc estimates.\n",
    "\n"
   ]
  },
  {
   "cell_type": "markdown",
   "metadata": {},
   "source": [
    "### Step 1."
   ]
  },
  {
   "cell_type": "code",
   "execution_count": null,
   "metadata": {},
   "outputs": [],
   "source": [
    "# produce the list of the individual shapefiles for each of the regions along the project area "
   ]
  },
  {
   "cell_type": "code",
   "execution_count": null,
   "metadata": {},
   "outputs": [],
   "source": [
    "%run C:\\Users\\grants\\Desktop\\Aerial_photo_analysis\\data_processing\\list_of_files_in_dir.py --direc C:\\DATA\\todd\\example\\shp \\\n",
    "    --exten .shp --txtfile C:\\DATA\\todd\\example\\shp\\shp_list.csv "
   ]
  },
  {
   "cell_type": "code",
   "execution_count": null,
   "metadata": {},
   "outputs": [],
   "source": [
    "# the next block of code produces the list needed to input into the multi clip script which produces the image chips \n",
    "# from the aerial photogrpahy. "
   ]
  },
  {
   "cell_type": "code",
   "execution_count": null,
   "metadata": {},
   "outputs": [],
   "source": [
    "import pandas as pd\n",
    "\n",
    "\"\"\"\n",
    "read in the list of shapefiles and clean up the list to input \n",
    "into the multi clip script\n",
    "\"\"\"\n",
    "\n",
    "# provide the path to the folder with the list of shapfiles\n",
    "path = r\"C:/DATA/todd/example/shp/\"\n",
    "\n",
    "# provide the path and name of the raster imagery being clipped.\n",
    "img = r\"C:/DATA/todd/example/asp_2015_15cm_02_wgs84.tif\"\n",
    "\n",
    "data = path + r\"shp_list.csv\"\n",
    "\n",
    "clip_list = pd.read_csv(data, header=None)\n",
    "clip_list['img'] = img\n",
    "clip_list.columns=['shp','img']\n",
    "clip_list.head(3)\n",
    "clip_list_final = clip_list[['img','shp']]\n",
    "path = data[:-12]\n",
    "\n",
    "print (path + 'clip_list.csv')\n",
    "clip_list_final.to_csv(path + 'clip_list.csv')"
   ]
  },
  {
   "cell_type": "markdown",
   "metadata": {},
   "source": [
    "### Step 2."
   ]
  },
  {
   "cell_type": "code",
   "execution_count": null,
   "metadata": {},
   "outputs": [],
   "source": [
    "# cd to the directory containing all of the individual shapefiles"
   ]
  },
  {
   "cell_type": "code",
   "execution_count": null,
   "metadata": {},
   "outputs": [],
   "source": [
    "cd C:\\DATA\\todd\\example\\shp"
   ]
  },
  {
   "cell_type": "code",
   "execution_count": null,
   "metadata": {},
   "outputs": [],
   "source": [
    "# run the script which clips out all of the image chips \n",
    "# this script renames each individual image chip using the unique id in the shapefile name"
   ]
  },
  {
   "cell_type": "code",
   "execution_count": null,
   "metadata": {},
   "outputs": [],
   "source": [
    "%run C:/Users/grants/code/img_proc/multi_clip_tool_rasterio.py -i C:/DATA/todd/example/shp/clip_list.csv"
   ]
  },
  {
   "cell_type": "markdown",
   "metadata": {},
   "source": [
    "### Step 3. "
   ]
  },
  {
   "cell_type": "code",
   "execution_count": null,
   "metadata": {},
   "outputs": [],
   "source": [
    "# create a list of image chips to be classifed "
   ]
  },
  {
   "cell_type": "code",
   "execution_count": null,
   "metadata": {},
   "outputs": [],
   "source": [
    "%run C:\\Users\\grants\\Desktop\\Aerial_photo_analysis\\data_processing\\list_of_files_in_dir.py --direc C:\\DATA\\todd\\example\\shp \\\n",
    "    --exten .tif --txtfile C:\\DATA\\todd\\example\\shp\\img_list.csv"
   ]
  },
  {
   "cell_type": "code",
   "execution_count": null,
   "metadata": {},
   "outputs": [],
   "source": [
    "# cd to the directory containing the classifier "
   ]
  },
  {
   "cell_type": "code",
   "execution_count": null,
   "metadata": {},
   "outputs": [],
   "source": [
    "cd C:\\users\\grants\\code\\ap_classifer"
   ]
  },
  {
   "cell_type": "code",
   "execution_count": null,
   "metadata": {},
   "outputs": [],
   "source": [
    "# run the help function on the script which applies the rgb aerial photograph classifier to each of the image chips\n",
    "# this script calls a script which applies the classifer to individual imagery. "
   ]
  },
  {
   "cell_type": "code",
   "execution_count": null,
   "metadata": {},
   "outputs": [],
   "source": [
    "%run apply_rgb_comb_classifier_multi.py -h"
   ]
  },
  {
   "cell_type": "code",
   "execution_count": null,
   "metadata": {},
   "outputs": [],
   "source": [
    "# input the command line arguments requried to run the script\n",
    "# this script outputs the classified image chip and also extracts out the FPC value \n",
    "# the FPC values for each image chip are saved out to a csv file "
   ]
  },
  {
   "cell_type": "code",
   "execution_count": null,
   "metadata": {},
   "outputs": [],
   "source": [
    "%run apply_rgb_comb_classifier_multi.py -s C:/DATA/todd/example/shp/img_list.csv   \\\n",
    "    -d C:/DATA/todd/example/shp/ \\\n",
    "        -c C:/DATA/todd/example/shp/asp_results_test.csv"
   ]
  }
 ],
 "metadata": {
  "kernelspec": {
   "display_name": "Python 3 (ipykernel)",
   "language": "python",
   "name": "python3"
  },
  "language_info": {
   "codemirror_mode": {
    "name": "ipython",
    "version": 3
   },
   "file_extension": ".py",
   "mimetype": "text/x-python",
   "name": "python",
   "nbconvert_exporter": "python",
   "pygments_lexer": "ipython3",
   "version": "3.8.12"
  }
 },
 "nbformat": 4,
 "nbformat_minor": 2
}
