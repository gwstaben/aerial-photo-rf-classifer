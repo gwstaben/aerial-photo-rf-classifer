{
 "cells": [
  {
   "cell_type": "code",
   "execution_count": 1,
   "metadata": {},
   "outputs": [
    {
     "name": "stdout",
     "output_type": "stream",
     "text": [
      "Populating the interactive namespace from numpy and matplotlib\n",
      "[1 5 4 3 2]\n",
      "this is the size of the training data  (15310, 3) (15310,)\n",
      "this is the size of the testing data  (1702, 3) (1702,)\n"
     ]
    },
    {
     "data": {
      "image/png": "[encoded data removed]",
      "text/plain": [
       "<Figure size 144x144 with 1 Axes>"
      ]
     },
     "metadata": {
      "needs_background": "light"
     },
     "output_type": "display_data"
    },
    {
     "name": "stdout",
     "output_type": "stream",
     "text": [
      "Overall accuracy of the classifier = 0.9518213866039953\n"
     ]
    },
    {
     "data": {
      "image/png": "[encoded data removed]",
      "text/plain": [
       "<Figure size 288x288 with 2 Axes>"
      ]
     },
     "metadata": {
      "needs_background": "light"
     },
     "output_type": "display_data"
    }
   ],
   "source": [
    "from sklearn.ensemble import RandomForestClassifier\n",
    "from numpy import genfromtxt, savetxt\n",
    "import pandas as pd\n",
    "%pylab inline\n",
    "import numpy as np\n",
    "from random import sample\n",
    "import matplotlib.pyplot as plt\n",
    "import csv\n",
    "from sklearn.model_selection import train_test_split\n",
    "from sklearn.metrics import explained_variance_score\n",
    "from sklearn import metrics\n",
    "from sklearn.metrics import mean_squared_error\n",
    "import pickle\n",
    "from sklearn.metrics import confusion_matrix\n",
    "pd.options.mode.chained_assignment = None  # default='warn'\n",
    "pylab.rcParams['figure.figsize'] = (2, 2)\n",
    "\n",
    "def main():\n",
    "    \n",
    "    # if you change the name of the clean training data csv file you need to change it in the next line or nothing will happen!   \n",
    "    df = pd.read_csv('comb_rgb_training_data_n17012.csv', header=0)\n",
    "    #df = df[(df['class'] != 2)]\n",
    "    print(df['class'].unique())\n",
    "    #print (list(df))\n",
    "    train = df[['class', 'b1', 'b2', 'b3']] \n",
    "               \n",
    "    #print (train)\n",
    "    #print (train['class'].unique())\n",
    "    class_names = train['class'].unique()\n",
    "    \n",
    "    # select out the predictor variables    \n",
    "    tr = train[['b1', 'b2', 'b3']]\n",
    "    # convert them to a numpy array\n",
    "    #tr1 = tr.as_matrix(columns=[tr.columns[0:]])\n",
    "    #print (tr)\n",
    "    # select out landsystem classes\n",
    "    target1 = train[['class']]\n",
    "    tar = target1.values\n",
    "    target = tar.ravel()\n",
    "    \n",
    "    # cross validation data randomly selected\n",
    "    \n",
    "    X_train, X_test, y_train, y_test = train_test_split(tr, target, test_size=0.10, random_state=0)\n",
    "    print ('this is the size of the training data ', X_train.shape, y_train.shape)\n",
    "    print  ('this is the size of the testing data ',X_test.shape, y_test.shape)\n",
    "    #print tr1.shape\n",
    "    \n",
    "    \n",
    "    #create and train the random forest\n",
    "    #multi-core CPUs can use: rf = RandomForestClassifier(n_estimators=100, n_jobs=2)\n",
    "    rf = RandomForestClassifier(n_estimators=200, n_jobs=-1)\n",
    "    rfc = rf.fit(X_train, y_train)\n",
    "    results = rfc.predict(X_test)\n",
    "    #print (results)\n",
    "    #print (y_2)\n",
    "    \n",
    "    \n",
    "    # feature importance calculations\n",
    "    feature_importance = rf.feature_importances_\n",
    "    fi = enumerate(rf.feature_importances_)\n",
    "    \n",
    "    cols = tr.columns \n",
    "    fiResult = [(value,cols[i]) for (i,value) in fi]\n",
    "    #print (fiResult)\n",
    "    fiResult = np.array(fiResult)\n",
    "    score = float64(fiResult[:,0])\n",
    "    band = fiResult[:,1]\n",
    "    a = fiResult[np.argsort(fiResult[:, 1])]\n",
    "\n",
    "\n",
    "    df = pd.DataFrame(dict(band=band,n=score))\n",
    "    #df.convert_objects(convert_numeric=True).dtypes\n",
    "    #ind = np.arange(len(df))\n",
    "    dfsort = df.sort_values(['n'], ascending=[False])\n",
    "    #print dfsort\n",
    "\n",
    "    # my complicated way to get the bar plot to sort in ascending order and display the assocated band names in the y axis \n",
    "\n",
    "    dfsort2 = df.sort_values(['n'], ascending=[True])\n",
    "    b = dfsort2[['band']]\n",
    "    c = b.values.tolist()\n",
    "    # convert the list of band names in the correct order to a string\n",
    "    e = str(c)\n",
    "    # strips all the rubbish from the string \n",
    "    f = e.replace('[','').replace(']','').replace(\"'\",'').replace(\",\",' ')\n",
    "    # convert the cleaned up string back into a list to plot the band names in the bar graph\n",
    "    g = f.split()\n",
    "\n",
    "    ind = np.arange(len(df))\n",
    "    width = 0.4\n",
    "\n",
    "    fig, ax = plt.subplots()\n",
    "    ax.barh(ind, dfsort2.n, width, color='blue')\n",
    "    ax.set(yticks=ind + width, yticklabels= g, ylim=[2*width - 1, len(df)])\n",
    "    plt.show()\n",
    "    fig.savefig('Band_importance_score_ap_Class.pdf',dpi=100)\n",
    " \n",
    "    \n",
    "    r2 = rf.score(X_test, y_test, sample_weight=None)\n",
    "    print ('Overall accuracy of the classifier =',r2)\n",
    "    y_test_predict = rf.predict(X_test)\n",
    "    #plt.scatter(y_test_predict, y_test)\n",
    "    cmap=plt.cm.Blues\n",
    "    m = confusion_matrix(y_test, y_test_predict)\n",
    "    plt.matshow(m, cmap=cmap)\n",
    "    plt.colorbar()\n",
    "    \n",
    "    #out_results = [results, y_2]\n",
    "    df_p = pd.DataFrame(results)\n",
    "    df_o = pd.DataFrame(y_test)\n",
    "    df_r = pd.concat([df_p, df_o], axis=1)\n",
    "    #print (df_r)\n",
    "    df_r.to_csv('test_results.csv')\n",
    "    \n",
    "    \"\"\"uncomment the code below and change the cpickle file name to save out the random forest classifer\"\"\"\n",
    "    \n",
    "    \n",
    "    # save out model to a cPickle file \n",
    "    #with open('rfc_cpickle_20200210.p', 'wb') as f:\n",
    "        #pickle.dump(rfc, f,protocol=2)\n",
    "\n",
    "if __name__==\"__main__\":\n",
    "    main()"
   ]
  },
  {
   "cell_type": "code",
   "execution_count": null,
   "metadata": {},
   "outputs": [],
   "source": []
  }
 ],
 "metadata": {
  "kernelspec": {
   "display_name": "Python 3",
   "language": "python",
   "name": "python3"
  },
  "language_info": {
   "codemirror_mode": {
    "name": "ipython",
    "version": 3
   },
   "file_extension": ".py",
   "mimetype": "text/x-python",
   "name": "python",
   "nbconvert_exporter": "python",
   "pygments_lexer": "ipython3",
   "version": "3.7.4"
  }
 },
 "nbformat": 4,
 "nbformat_minor": 2
}
